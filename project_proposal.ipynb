{
 "cells": [
  {
   "cell_type": "code",
   "execution_count": 6,
   "id": "be831fae-3fd1-4708-a9f1-98738c66796d",
   "metadata": {
    "tags": []
   },
   "outputs": [
    {
     "ename": "ERROR",
     "evalue": "Error in library(themis): there is no package called ‘themis’\n",
     "output_type": "error",
     "traceback": [
      "Error in library(themis): there is no package called ‘themis’\nTraceback:\n",
      "1. library(themis)"
     ]
    }
   ],
   "source": [
    "library(tidyverse)\n",
    "library(repr)\n",
    "library(rvest)\n",
    "library(stringr)\n",
    "library(readxl)\n",
    "library(dplyr)\n",
    "library(tidymodels)\n",
    "options(repr.matrix.max.rows = 6)"
   ]
  },
  {
   "cell_type": "code",
   "execution_count": 2,
   "id": "29018c73-5e9a-4ed5-8ea2-42d09dd7d858",
   "metadata": {
    "tags": []
   },
   "outputs": [
    {
     "name": "stderr",
     "output_type": "stream",
     "text": [
      "\u001b[1m\u001b[22mNew names:\n",
      "\u001b[36m•\u001b[39m `` -> `...7`\n",
      "\u001b[36m•\u001b[39m `` -> `...8`\n",
      "\u001b[1mRows: \u001b[22m\u001b[34m258\u001b[39m \u001b[1mColumns: \u001b[22m\u001b[34m9\u001b[39m\n",
      "\u001b[36m──\u001b[39m \u001b[1mColumn specification\u001b[22m \u001b[36m────────────────────────────────────────────────────────\u001b[39m\n",
      "\u001b[1mDelimiter:\u001b[22m \",\"\n",
      "\u001b[31mchr\u001b[39m (2): UNS, Attribute Information:\n",
      "\u001b[32mdbl\u001b[39m (5): STG, SCG, STR, LPR, PEG\n",
      "\u001b[33mlgl\u001b[39m (2): ...7, ...8\n",
      "\n",
      "\u001b[36mℹ\u001b[39m Use `spec()` to retrieve the full column specification for this data.\n",
      "\u001b[36mℹ\u001b[39m Specify the column types or set `show_col_types = FALSE` to quiet this message.\n"
     ]
    },
    {
     "data": {
      "text/html": [
       "<table class=\"dataframe\">\n",
       "<caption>A tibble: 230 × 4</caption>\n",
       "<thead>\n",
       "\t<tr><th scope=col>STG</th><th scope=col>STR</th><th scope=col>LPR</th><th scope=col>PEG</th></tr>\n",
       "\t<tr><th scope=col>&lt;dbl&gt;</th><th scope=col>&lt;dbl&gt;</th><th scope=col>&lt;dbl&gt;</th><th scope=col>&lt;chr&gt;</th></tr>\n",
       "</thead>\n",
       "<tbody>\n",
       "\t<tr><td>0.08</td><td>0.10</td><td>0.24</td><td>A</td></tr>\n",
       "\t<tr><td>0.00</td><td>0.50</td><td>0.20</td><td>A</td></tr>\n",
       "\t<tr><td>0.18</td><td>0.55</td><td>0.30</td><td>A</td></tr>\n",
       "\t<tr><td>⋮</td><td>⋮</td><td>⋮</td><td>⋮</td></tr>\n",
       "\t<tr><td>0.72</td><td>0.45</td><td>0.79</td><td>F</td></tr>\n",
       "\t<tr><td>0.54</td><td>0.55</td><td>0.64</td><td>F</td></tr>\n",
       "\t<tr><td>0.50</td><td>0.81</td><td>0.61</td><td>F</td></tr>\n",
       "</tbody>\n",
       "</table>\n"
      ],
      "text/latex": [
       "A tibble: 230 × 4\n",
       "\\begin{tabular}{llll}\n",
       " STG & STR & LPR & PEG\\\\\n",
       " <dbl> & <dbl> & <dbl> & <chr>\\\\\n",
       "\\hline\n",
       "\t 0.08 & 0.10 & 0.24 & A\\\\\n",
       "\t 0.00 & 0.50 & 0.20 & A\\\\\n",
       "\t 0.18 & 0.55 & 0.30 & A\\\\\n",
       "\t ⋮ & ⋮ & ⋮ & ⋮\\\\\n",
       "\t 0.72 & 0.45 & 0.79 & F\\\\\n",
       "\t 0.54 & 0.55 & 0.64 & F\\\\\n",
       "\t 0.50 & 0.81 & 0.61 & F\\\\\n",
       "\\end{tabular}\n"
      ],
      "text/markdown": [
       "\n",
       "A tibble: 230 × 4\n",
       "\n",
       "| STG &lt;dbl&gt; | STR &lt;dbl&gt; | LPR &lt;dbl&gt; | PEG &lt;chr&gt; |\n",
       "|---|---|---|---|\n",
       "| 0.08 | 0.10 | 0.24 | A |\n",
       "| 0.00 | 0.50 | 0.20 | A |\n",
       "| 0.18 | 0.55 | 0.30 | A |\n",
       "| ⋮ | ⋮ | ⋮ | ⋮ |\n",
       "| 0.72 | 0.45 | 0.79 | F |\n",
       "| 0.54 | 0.55 | 0.64 | F |\n",
       "| 0.50 | 0.81 | 0.61 | F |\n",
       "\n"
      ],
      "text/plain": [
       "    STG  STR  LPR  PEG\n",
       "1   0.08 0.10 0.24 A  \n",
       "2   0.00 0.50 0.20 A  \n",
       "3   0.18 0.55 0.30 A  \n",
       "⋮   ⋮    ⋮    ⋮    ⋮  \n",
       "228 0.72 0.45 0.79 F  \n",
       "229 0.54 0.55 0.64 F  \n",
       "230 0.50 0.81 0.61 F  "
      ]
     },
     "metadata": {},
     "output_type": "display_data"
    }
   ],
   "source": [
    "data <- read_csv(\"https://raw.githubusercontent.com/thisisyifulin/group_project-group34-/main/Training_Data_User_Modeling_Dataset_Hamdi%20Tolga%20KAHRAMAN.csv\") |>\n",
    "select(STG, SCG, STR, LPR, PEG, UNS)\n",
    "\n",
    "new_data <- data |>\n",
    "select(STG, STR, LPR, PEG) # selecting the variables\n",
    "\n",
    "A_grade <- filter(new_data, 1.00 > PEG, PEG > 0.80) |> # changing PEG from decimals to letter grades\n",
    "mutate(PEG = \"A\")\n",
    "\n",
    "B_grade <- filter(new_data, 0.79 > PEG, PEG > 0.65) |> \n",
    "mutate(PEG = \"B\")\n",
    "\n",
    "C_grade <- filter(new_data, 0.64 > PEG, PEG > 0.55) |> \n",
    "mutate(PEG = \"C\")\n",
    "\n",
    "D_grade <- filter(new_data, 0.54 > PEG, PEG > 0.50) |> \n",
    "mutate(PEG = \"D\")\n",
    "\n",
    "F_grade <- filter(new_data, 0.49 > PEG, PEG > 0.00) |> \n",
    "mutate(PEG = \"F\")\n",
    "\n",
    "mutated_data <- bind_rows(A_grade, B_grade, C_grade, D_grade, F_grade)\n",
    "\n",
    "mutated_data"
   ]
  },
  {
   "cell_type": "code",
   "execution_count": 3,
   "id": "8c5ba120-1bcc-44c5-9f40-a3de4251ef48",
   "metadata": {
    "tags": []
   },
   "outputs": [
    {
     "data": {
      "text/html": [
       "<table class=\"dataframe\">\n",
       "<caption>A tibble: 172 × 4</caption>\n",
       "<thead>\n",
       "\t<tr><th scope=col>STG</th><th scope=col>STR</th><th scope=col>LPR</th><th scope=col>PEG</th></tr>\n",
       "\t<tr><th scope=col>&lt;dbl&gt;</th><th scope=col>&lt;dbl&gt;</th><th scope=col>&lt;dbl&gt;</th><th scope=col>&lt;chr&gt;</th></tr>\n",
       "</thead>\n",
       "<tbody>\n",
       "\t<tr><td>0.08</td><td>0.10</td><td>0.24</td><td>A</td></tr>\n",
       "\t<tr><td>0.00</td><td>0.50</td><td>0.20</td><td>A</td></tr>\n",
       "\t<tr><td>0.18</td><td>0.55</td><td>0.30</td><td>A</td></tr>\n",
       "\t<tr><td>⋮</td><td>⋮</td><td>⋮</td><td>⋮</td></tr>\n",
       "\t<tr><td>0.58</td><td>0.31</td><td>0.29</td><td>F</td></tr>\n",
       "\t<tr><td>0.72</td><td>0.45</td><td>0.79</td><td>F</td></tr>\n",
       "\t<tr><td>0.54</td><td>0.55</td><td>0.64</td><td>F</td></tr>\n",
       "</tbody>\n",
       "</table>\n"
      ],
      "text/latex": [
       "A tibble: 172 × 4\n",
       "\\begin{tabular}{llll}\n",
       " STG & STR & LPR & PEG\\\\\n",
       " <dbl> & <dbl> & <dbl> & <chr>\\\\\n",
       "\\hline\n",
       "\t 0.08 & 0.10 & 0.24 & A\\\\\n",
       "\t 0.00 & 0.50 & 0.20 & A\\\\\n",
       "\t 0.18 & 0.55 & 0.30 & A\\\\\n",
       "\t ⋮ & ⋮ & ⋮ & ⋮\\\\\n",
       "\t 0.58 & 0.31 & 0.29 & F\\\\\n",
       "\t 0.72 & 0.45 & 0.79 & F\\\\\n",
       "\t 0.54 & 0.55 & 0.64 & F\\\\\n",
       "\\end{tabular}\n"
      ],
      "text/markdown": [
       "\n",
       "A tibble: 172 × 4\n",
       "\n",
       "| STG &lt;dbl&gt; | STR &lt;dbl&gt; | LPR &lt;dbl&gt; | PEG &lt;chr&gt; |\n",
       "|---|---|---|---|\n",
       "| 0.08 | 0.10 | 0.24 | A |\n",
       "| 0.00 | 0.50 | 0.20 | A |\n",
       "| 0.18 | 0.55 | 0.30 | A |\n",
       "| ⋮ | ⋮ | ⋮ | ⋮ |\n",
       "| 0.58 | 0.31 | 0.29 | F |\n",
       "| 0.72 | 0.45 | 0.79 | F |\n",
       "| 0.54 | 0.55 | 0.64 | F |\n",
       "\n"
      ],
      "text/plain": [
       "    STG  STR  LPR  PEG\n",
       "1   0.08 0.10 0.24 A  \n",
       "2   0.00 0.50 0.20 A  \n",
       "3   0.18 0.55 0.30 A  \n",
       "⋮   ⋮    ⋮    ⋮    ⋮  \n",
       "170 0.58 0.31 0.29 F  \n",
       "171 0.72 0.45 0.79 F  \n",
       "172 0.54 0.55 0.64 F  "
      ]
     },
     "metadata": {},
     "output_type": "display_data"
    }
   ],
   "source": [
    "set.seed(2345)\n",
    "#split data into training set & testing set\n",
    "mutated_data_split <- initial_split(mutated_data, prop = 0.75, strata = PEG)\n",
    "data_training <- training(mutated_data_split)\n",
    "data_testing <- testing(mutated_data_split)\n",
    "\n",
    "data_training\n"
   ]
  },
  {
   "cell_type": "code",
   "execution_count": 4,
   "id": "53416d15-00d1-4fcd-95d9-279e042a3a6f",
   "metadata": {},
   "outputs": [
    {
     "data": {
      "text/html": [
       "<table class=\"dataframe\">\n",
       "<caption>A tibble: 5 × 2</caption>\n",
       "<thead>\n",
       "\t<tr><th scope=col>PEG</th><th scope=col>count_class</th></tr>\n",
       "\t<tr><th scope=col>&lt;chr&gt;</th><th scope=col>&lt;int&gt;</th></tr>\n",
       "</thead>\n",
       "<tbody>\n",
       "\t<tr><td>A</td><td>21</td></tr>\n",
       "\t<tr><td>B</td><td>28</td></tr>\n",
       "\t<tr><td>C</td><td>23</td></tr>\n",
       "\t<tr><td>D</td><td> 6</td></tr>\n",
       "\t<tr><td>F</td><td>94</td></tr>\n",
       "</tbody>\n",
       "</table>\n"
      ],
      "text/latex": [
       "A tibble: 5 × 2\n",
       "\\begin{tabular}{ll}\n",
       " PEG & count\\_class\\\\\n",
       " <chr> & <int>\\\\\n",
       "\\hline\n",
       "\t A & 21\\\\\n",
       "\t B & 28\\\\\n",
       "\t C & 23\\\\\n",
       "\t D &  6\\\\\n",
       "\t F & 94\\\\\n",
       "\\end{tabular}\n"
      ],
      "text/markdown": [
       "\n",
       "A tibble: 5 × 2\n",
       "\n",
       "| PEG &lt;chr&gt; | count_class &lt;int&gt; |\n",
       "|---|---|\n",
       "| A | 21 |\n",
       "| B | 28 |\n",
       "| C | 23 |\n",
       "| D |  6 |\n",
       "| F | 94 |\n",
       "\n"
      ],
      "text/plain": [
       "  PEG count_class\n",
       "1 A   21         \n",
       "2 B   28         \n",
       "3 C   23         \n",
       "4 D    6         \n",
       "5 F   94         "
      ]
     },
     "metadata": {},
     "output_type": "display_data"
    }
   ],
   "source": [
    "#count the amount of each class of PEG to check if the classes are balanced\n",
    "counts_class <- data_training |>\n",
    "                group_by(PEG) |>\n",
    "                summarize(count_class = n())\n",
    "counts_class"
   ]
  },
  {
   "cell_type": "code",
   "execution_count": 8,
   "id": "2f67f515-ddc9-42dd-b87c-466ef9ef26d5",
   "metadata": {},
   "outputs": [
    {
     "name": "stderr",
     "output_type": "stream",
     "text": [
      "Updating HTML index of packages in '.Library'\n",
      "\n",
      "Making 'packages.html' ...\n",
      " done\n",
      "\n",
      "Updating HTML index of packages in '.Library'\n",
      "\n",
      "Making 'packages.html' ...\n",
      " done\n",
      "\n",
      "Updating HTML index of packages in '.Library'\n",
      "\n",
      "Making 'packages.html' ...\n",
      " done\n",
      "\n"
     ]
    },
    {
     "data": {
      "text/plain": [
       "Recipe\n",
       "\n",
       "Inputs:\n",
       "\n",
       "      role #variables\n",
       "   outcome          1\n",
       " predictor          3\n",
       "\n",
       "Training data contained 172 data points and no missing data.\n",
       "\n",
       "Operations:\n",
       "\n",
       "Up-sampling based on PEG [trained]"
      ]
     },
     "metadata": {},
     "output_type": "display_data"
    }
   ],
   "source": [
    "install.packages(\"themis\")\n",
    "install.packages(\"RANN\")\n",
    "install.packages(\"ROSE\")\n",
    "library(themis)\n",
    "\n",
    "peg_recipe <- recipe(PEG ~ ., data = data_training) |>\n",
    "  step_upsample(PEG, over_ratio = 1, skip = FALSE) |>\n",
    "  prep()\n",
    "\n",
    "peg_recipe"
   ]
  },
  {
   "cell_type": "code",
   "execution_count": 10,
   "id": "2a61dc3e-c8f5-484f-a299-b12b3a794789",
   "metadata": {
    "tags": []
   },
   "outputs": [
    {
     "data": {
      "text/html": [
       "<table class=\"dataframe\">\n",
       "<caption>A tibble: 5 × 2</caption>\n",
       "<thead>\n",
       "\t<tr><th scope=col>PEG</th><th scope=col>count_class</th></tr>\n",
       "\t<tr><th scope=col>&lt;fct&gt;</th><th scope=col>&lt;int&gt;</th></tr>\n",
       "</thead>\n",
       "<tbody>\n",
       "\t<tr><td>A</td><td>94</td></tr>\n",
       "\t<tr><td>B</td><td>94</td></tr>\n",
       "\t<tr><td>C</td><td>94</td></tr>\n",
       "\t<tr><td>D</td><td>94</td></tr>\n",
       "\t<tr><td>F</td><td>94</td></tr>\n",
       "</tbody>\n",
       "</table>\n"
      ],
      "text/latex": [
       "A tibble: 5 × 2\n",
       "\\begin{tabular}{ll}\n",
       " PEG & count\\_class\\\\\n",
       " <fct> & <int>\\\\\n",
       "\\hline\n",
       "\t A & 94\\\\\n",
       "\t B & 94\\\\\n",
       "\t C & 94\\\\\n",
       "\t D & 94\\\\\n",
       "\t F & 94\\\\\n",
       "\\end{tabular}\n"
      ],
      "text/markdown": [
       "\n",
       "A tibble: 5 × 2\n",
       "\n",
       "| PEG &lt;fct&gt; | count_class &lt;int&gt; |\n",
       "|---|---|\n",
       "| A | 94 |\n",
       "| B | 94 |\n",
       "| C | 94 |\n",
       "| D | 94 |\n",
       "| F | 94 |\n",
       "\n"
      ],
      "text/plain": [
       "  PEG count_class\n",
       "1 A   94         \n",
       "2 B   94         \n",
       "3 C   94         \n",
       "4 D   94         \n",
       "5 F   94         "
      ]
     },
     "metadata": {},
     "output_type": "display_data"
    }
   ],
   "source": [
    "upsampled_data_training <- bake(peg_recipe, data_training)\n",
    "\n",
    "counts_class_again <- upsampled_data_training |>\n",
    "                group_by(PEG) |>\n",
    "                summarize(count_class = n())\n",
    "\n",
    "counts_class_again"
   ]
  },
  {
   "cell_type": "code",
   "execution_count": null,
   "id": "bbe164f0-8720-498b-9239-dbecf2b125a8",
   "metadata": {},
   "outputs": [],
   "source": []
  }
 ],
 "metadata": {
  "kernelspec": {
   "display_name": "R",
   "language": "R",
   "name": "ir"
  },
  "language_info": {
   "codemirror_mode": "r",
   "file_extension": ".r",
   "mimetype": "text/x-r-source",
   "name": "R",
   "pygments_lexer": "r",
   "version": "4.2.2"
  }
 },
 "nbformat": 4,
 "nbformat_minor": 5
}
