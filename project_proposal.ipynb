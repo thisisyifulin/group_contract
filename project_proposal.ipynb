{
 "cells": [
  {
   "cell_type": "code",
   "execution_count": 3,
   "id": "be831fae-3fd1-4708-a9f1-98738c66796d",
   "metadata": {
    "tags": []
   },
   "outputs": [
    {
     "name": "stderr",
     "output_type": "stream",
     "text": [
      "── \u001b[1mAttaching packages\u001b[22m ─────────────────────────────────────── tidyverse 1.3.2 ──\n",
      "\u001b[32m✔\u001b[39m \u001b[34mggplot2\u001b[39m 3.4.2     \u001b[32m✔\u001b[39m \u001b[34mpurrr  \u001b[39m 1.0.1\n",
      "\u001b[32m✔\u001b[39m \u001b[34mtibble \u001b[39m 3.2.1     \u001b[32m✔\u001b[39m \u001b[34mdplyr  \u001b[39m 1.1.1\n",
      "\u001b[32m✔\u001b[39m \u001b[34mtidyr  \u001b[39m 1.3.0     \u001b[32m✔\u001b[39m \u001b[34mstringr\u001b[39m 1.5.0\n",
      "\u001b[32m✔\u001b[39m \u001b[34mreadr  \u001b[39m 2.1.3     \u001b[32m✔\u001b[39m \u001b[34mforcats\u001b[39m 0.5.2\n",
      "── \u001b[1mConflicts\u001b[22m ────────────────────────────────────────── tidyverse_conflicts() ──\n",
      "\u001b[31m✖\u001b[39m \u001b[34mdplyr\u001b[39m::\u001b[32mfilter()\u001b[39m masks \u001b[34mstats\u001b[39m::filter()\n",
      "\u001b[31m✖\u001b[39m \u001b[34mdplyr\u001b[39m::\u001b[32mlag()\u001b[39m    masks \u001b[34mstats\u001b[39m::lag()\n",
      "\n",
      "Attaching package: ‘rvest’\n",
      "\n",
      "\n",
      "The following object is masked from ‘package:readr’:\n",
      "\n",
      "    guess_encoding\n",
      "\n",
      "\n"
     ]
    }
   ],
   "source": [
    "library(tidyverse)\n",
    "library(repr)\n",
    "library(rvest)\n",
    "library(stringr)\n",
    "library(readxl)\n",
    "library(dplyr)\n",
    "options(repr.matrix.max.rows = 6)"
   ]
  },
  {
   "cell_type": "code",
   "execution_count": 5,
   "id": "29018c73-5e9a-4ed5-8ea2-42d09dd7d858",
   "metadata": {
    "tags": []
   },
   "outputs": [
    {
     "name": "stderr",
     "output_type": "stream",
     "text": [
      "\u001b[1m\u001b[22mNew names:\n",
      "\u001b[36m•\u001b[39m `` -> `...7`\n",
      "\u001b[36m•\u001b[39m `` -> `...8`\n",
      "\u001b[1mRows: \u001b[22m\u001b[34m258\u001b[39m \u001b[1mColumns: \u001b[22m\u001b[34m9\u001b[39m\n",
      "\u001b[36m──\u001b[39m \u001b[1mColumn specification\u001b[22m \u001b[36m────────────────────────────────────────────────────────\u001b[39m\n",
      "\u001b[1mDelimiter:\u001b[22m \",\"\n",
      "\u001b[31mchr\u001b[39m (2): UNS, Attribute Information:\n",
      "\u001b[32mdbl\u001b[39m (5): STG, SCG, STR, LPR, PEG\n",
      "\u001b[33mlgl\u001b[39m (2): ...7, ...8\n",
      "\n",
      "\u001b[36mℹ\u001b[39m Use `spec()` to retrieve the full column specification for this data.\n",
      "\u001b[36mℹ\u001b[39m Specify the column types or set `show_col_types = FALSE` to quiet this message.\n"
     ]
    },
    {
     "data": {
      "text/html": [
       "<table class=\"dataframe\">\n",
       "<caption>A tibble: 230 × 4</caption>\n",
       "<thead>\n",
       "\t<tr><th scope=col>STG</th><th scope=col>STR</th><th scope=col>LPR</th><th scope=col>PEG</th></tr>\n",
       "\t<tr><th scope=col>&lt;dbl&gt;</th><th scope=col>&lt;dbl&gt;</th><th scope=col>&lt;dbl&gt;</th><th scope=col>&lt;chr&gt;</th></tr>\n",
       "</thead>\n",
       "<tbody>\n",
       "\t<tr><td>0.08</td><td>0.10</td><td>0.24</td><td>A</td></tr>\n",
       "\t<tr><td>0.00</td><td>0.50</td><td>0.20</td><td>A</td></tr>\n",
       "\t<tr><td>0.18</td><td>0.55</td><td>0.30</td><td>A</td></tr>\n",
       "\t<tr><td>⋮</td><td>⋮</td><td>⋮</td><td>⋮</td></tr>\n",
       "\t<tr><td>0.72</td><td>0.45</td><td>0.79</td><td>F</td></tr>\n",
       "\t<tr><td>0.54</td><td>0.55</td><td>0.64</td><td>F</td></tr>\n",
       "\t<tr><td>0.50</td><td>0.81</td><td>0.61</td><td>F</td></tr>\n",
       "</tbody>\n",
       "</table>\n"
      ],
      "text/latex": [
       "A tibble: 230 × 4\n",
       "\\begin{tabular}{llll}\n",
       " STG & STR & LPR & PEG\\\\\n",
       " <dbl> & <dbl> & <dbl> & <chr>\\\\\n",
       "\\hline\n",
       "\t 0.08 & 0.10 & 0.24 & A\\\\\n",
       "\t 0.00 & 0.50 & 0.20 & A\\\\\n",
       "\t 0.18 & 0.55 & 0.30 & A\\\\\n",
       "\t ⋮ & ⋮ & ⋮ & ⋮\\\\\n",
       "\t 0.72 & 0.45 & 0.79 & F\\\\\n",
       "\t 0.54 & 0.55 & 0.64 & F\\\\\n",
       "\t 0.50 & 0.81 & 0.61 & F\\\\\n",
       "\\end{tabular}\n"
      ],
      "text/markdown": [
       "\n",
       "A tibble: 230 × 4\n",
       "\n",
       "| STG &lt;dbl&gt; | STR &lt;dbl&gt; | LPR &lt;dbl&gt; | PEG &lt;chr&gt; |\n",
       "|---|---|---|---|\n",
       "| 0.08 | 0.10 | 0.24 | A |\n",
       "| 0.00 | 0.50 | 0.20 | A |\n",
       "| 0.18 | 0.55 | 0.30 | A |\n",
       "| ⋮ | ⋮ | ⋮ | ⋮ |\n",
       "| 0.72 | 0.45 | 0.79 | F |\n",
       "| 0.54 | 0.55 | 0.64 | F |\n",
       "| 0.50 | 0.81 | 0.61 | F |\n",
       "\n"
      ],
      "text/plain": [
       "    STG  STR  LPR  PEG\n",
       "1   0.08 0.10 0.24 A  \n",
       "2   0.00 0.50 0.20 A  \n",
       "3   0.18 0.55 0.30 A  \n",
       "⋮   ⋮    ⋮    ⋮    ⋮  \n",
       "228 0.72 0.45 0.79 F  \n",
       "229 0.54 0.55 0.64 F  \n",
       "230 0.50 0.81 0.61 F  "
      ]
     },
     "metadata": {},
     "output_type": "display_data"
    }
   ],
   "source": [
    "data <- read_csv(\"https://raw.githubusercontent.com/thisisyifulin/group_project-group34-/main/Data_User_Modeling_Dataset_Hamdi%20Tolga%20KAHRAMAN.csv\") |>\n",
    "select(STG, SCG, STR, LPR, PEG, UNS)\n",
    "\n",
    "new_data <- data |>\n",
    "select(STG, STR, LPR, PEG) # selecting the variables\n",
    "\n",
    "A_grade <- filter(new_data, 1.00 > PEG, PEG > 0.80) |> # changing PEG from decimals to letter grades\n",
    "mutate(PEG = \"A\")\n",
    "\n",
    "B_grade <- filter(new_data, 0.79 > PEG, PEG > 0.65) |> \n",
    "mutate(PEG = \"B\")\n",
    "\n",
    "C_grade <- filter(new_data, 0.64 > PEG, PEG > 0.55) |> \n",
    "mutate(PEG = \"C\")\n",
    "\n",
    "D_grade <- filter(new_data, 0.54 > PEG, PEG > 0.50) |> \n",
    "mutate(PEG = \"D\")\n",
    "\n",
    "F_grade <- filter(new_data, 0.49 > PEG, PEG > 0.00) |> \n",
    "mutate(PEG = \"F\")\n",
    "\n",
    "mutated_data <- bind_rows(A_grade, B_grade, C_grade, D_grade, F_grade)\n",
    "\n",
    "mutated_data"
   ]
  },
  {
   "cell_type": "code",
   "execution_count": null,
   "id": "8c5ba120-1bcc-44c5-9f40-a3de4251ef48",
   "metadata": {},
   "outputs": [],
   "source": []
  }
 ],
 "metadata": {
  "kernelspec": {
   "display_name": "R",
   "language": "R",
   "name": "ir"
  },
  "language_info": {
   "codemirror_mode": "r",
   "file_extension": ".r",
   "mimetype": "text/x-r-source",
   "name": "R",
   "pygments_lexer": "r",
   "version": "4.2.2"
  }
 },
 "nbformat": 4,
 "nbformat_minor": 5
}
