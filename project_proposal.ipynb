{
 "cells": [
  {
   "cell_type": "code",
   "execution_count": 7,
   "id": "be831fae-3fd1-4708-a9f1-98738c66796d",
   "metadata": {
    "tags": []
   },
   "outputs": [],
   "source": [
    "library(tidyverse)\n",
    "library(repr)\n",
    "library(rvest)\n",
    "library(stringr)\n",
    "library(readxl)\n",
    "library(dplyr)\n",
    "options(repr.matrix.max.rows = 6)"
   ]
  },
  {
   "cell_type": "code",
   "execution_count": 8,
   "id": "29018c73-5e9a-4ed5-8ea2-42d09dd7d858",
   "metadata": {
    "tags": []
   },
   "outputs": [
    {
     "ename": "ERROR",
     "evalue": "Error in open.connection(structure(4L, class = c(\"curl\", \"connection\"), conn_id = <pointer: 0x28c>), : HTTP error 404.\n",
     "output_type": "error",
     "traceback": [
      "Error in open.connection(structure(4L, class = c(\"curl\", \"connection\"), conn_id = <pointer: 0x28c>), : HTTP error 404.\nTraceback:\n",
      "1. select(read_csv(\"https://raw.githubusercontent.com/thisisyifulin/group_project-group34-/main/Data_User_Modeling_Dataset_Hamdi%20Tolga%20KAHRAMAN.csv\"), \n .     STG, SCG, STR, LPR, PEG, UNS)",
      "2. read_csv(\"https://raw.githubusercontent.com/thisisyifulin/group_project-group34-/main/Data_User_Modeling_Dataset_Hamdi%20Tolga%20KAHRAMAN.csv\")",
      "3. vroom::vroom(file, delim = \",\", col_names = col_names, col_types = col_types, \n .     col_select = {\n .         {\n .             col_select\n .         }\n .     }, id = id, .name_repair = name_repair, skip = skip, n_max = n_max, \n .     na = na, quote = quote, comment = comment, skip_empty_rows = skip_empty_rows, \n .     trim_ws = trim_ws, escape_double = TRUE, escape_backslash = FALSE, \n .     locale = locale, guess_max = guess_max, show_col_types = show_col_types, \n .     progress = progress, altrep = lazy, num_threads = num_threads)",
      "4. vroom_(file, delim = delim %||% col_types$delim, col_names = col_names, \n .     col_types = col_types, id = id, skip = skip, col_select = col_select, \n .     name_repair = .name_repair, na = na, quote = quote, trim_ws = trim_ws, \n .     escape_double = escape_double, escape_backslash = escape_backslash, \n .     comment = comment, skip_empty_rows = skip_empty_rows, locale = locale, \n .     guess_max = guess_max, n_max = n_max, altrep = vroom_altrep(altrep), \n .     num_threads = num_threads, progress = progress)",
      "5. (function (con, ...) \n . UseMethod(\"open\"))(structure(4L, class = c(\"curl\", \"connection\"\n . ), conn_id = <pointer: 0x28c>), \"rb\")",
      "6. open.connection(structure(4L, class = c(\"curl\", \"connection\"), conn_id = <pointer: 0x28c>), \n .     \"rb\")"
     ]
    }
   ],
   "source": [
    "data <- read_csv(\"https://raw.githubusercontent.com/thisisyifulin/group_project-group34-/main/Training_Data_User_Modeling_Dataset_Hamdi%20Tolga%20KAHRAMAN.csv\") |>\n",
    "select(STG, SCG, STR, LPR, PEG, UNS)\n",
    "\n",
    "new_data <- data |>\n",
    "select(STG, STR, LPR, PEG) # selecting the variables\n",
    "\n",
    "A_grade <- filter(new_data, 1.00 > PEG, PEG > 0.80) |> # changing PEG from decimals to letter grades\n",
    "mutate(PEG = \"A\")\n",
    "\n",
    "B_grade <- filter(new_data, 0.79 > PEG, PEG > 0.65) |> \n",
    "mutate(PEG = \"B\")\n",
    "\n",
    "C_grade <- filter(new_data, 0.64 > PEG, PEG > 0.55) |> \n",
    "mutate(PEG = \"C\")\n",
    "\n",
    "D_grade <- filter(new_data, 0.54 > PEG, PEG > 0.50) |> \n",
    "mutate(PEG = \"D\")\n",
    "\n",
    "F_grade <- filter(new_data, 0.49 > PEG, PEG > 0.00) |> \n",
    "mutate(PEG = \"F\")\n",
    "\n",
    "mutated_data <- bind_rows(A_grade, B_grade, C_grade, D_grade, F_grade)\n",
    "\n",
    "mutated_data"
   ]
  },
  {
   "cell_type": "code",
   "execution_count": null,
   "id": "8c5ba120-1bcc-44c5-9f40-a3de4251ef48",
   "metadata": {},
   "outputs": [],
   "source": []
  }
 ],
 "metadata": {
  "kernelspec": {
   "display_name": "R",
   "language": "R",
   "name": "ir"
  },
  "language_info": {
   "codemirror_mode": "r",
   "file_extension": ".r",
   "mimetype": "text/x-r-source",
   "name": "R",
   "pygments_lexer": "r",
   "version": "4.2.2"
  }
 },
 "nbformat": 4,
 "nbformat_minor": 5
}
