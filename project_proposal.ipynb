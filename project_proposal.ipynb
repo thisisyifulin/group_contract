{
 "cells": [
  {
   "cell_type": "code",
   "execution_count": 1,
   "id": "be831fae-3fd1-4708-a9f1-98738c66796d",
   "metadata": {
    "tags": []
   },
   "outputs": [
    {
     "name": "stderr",
     "output_type": "stream",
     "text": [
      "── \u001b[1mAttaching packages\u001b[22m ─────────────────────────────────────── tidyverse 1.3.2 ──\n",
      "\u001b[32m✔\u001b[39m \u001b[34mggplot2\u001b[39m 3.4.2     \u001b[32m✔\u001b[39m \u001b[34mpurrr  \u001b[39m 1.0.1\n",
      "\u001b[32m✔\u001b[39m \u001b[34mtibble \u001b[39m 3.2.1     \u001b[32m✔\u001b[39m \u001b[34mdplyr  \u001b[39m 1.1.1\n",
      "\u001b[32m✔\u001b[39m \u001b[34mtidyr  \u001b[39m 1.3.0     \u001b[32m✔\u001b[39m \u001b[34mstringr\u001b[39m 1.5.0\n",
      "\u001b[32m✔\u001b[39m \u001b[34mreadr  \u001b[39m 2.1.3     \u001b[32m✔\u001b[39m \u001b[34mforcats\u001b[39m 0.5.2\n",
      "── \u001b[1mConflicts\u001b[22m ────────────────────────────────────────── tidyverse_conflicts() ──\n",
      "\u001b[31m✖\u001b[39m \u001b[34mdplyr\u001b[39m::\u001b[32mfilter()\u001b[39m masks \u001b[34mstats\u001b[39m::filter()\n",
      "\u001b[31m✖\u001b[39m \u001b[34mdplyr\u001b[39m::\u001b[32mlag()\u001b[39m    masks \u001b[34mstats\u001b[39m::lag()\n",
      "\n",
      "Attaching package: ‘rvest’\n",
      "\n",
      "\n",
      "The following object is masked from ‘package:readr’:\n",
      "\n",
      "    guess_encoding\n",
      "\n",
      "\n",
      "── \u001b[1mAttaching packages\u001b[22m ────────────────────────────────────── tidymodels 1.0.0 ──\n",
      "\n",
      "\u001b[32m✔\u001b[39m \u001b[34mbroom       \u001b[39m 1.0.2     \u001b[32m✔\u001b[39m \u001b[34mrsample     \u001b[39m 1.1.1\n",
      "\u001b[32m✔\u001b[39m \u001b[34mdials       \u001b[39m 1.1.0     \u001b[32m✔\u001b[39m \u001b[34mtune        \u001b[39m 1.0.1\n",
      "\u001b[32m✔\u001b[39m \u001b[34minfer       \u001b[39m 1.0.4     \u001b[32m✔\u001b[39m \u001b[34mworkflows   \u001b[39m 1.1.2\n",
      "\u001b[32m✔\u001b[39m \u001b[34mmodeldata   \u001b[39m 1.0.1     \u001b[32m✔\u001b[39m \u001b[34mworkflowsets\u001b[39m 1.0.0\n",
      "\u001b[32m✔\u001b[39m \u001b[34mparsnip     \u001b[39m 1.0.3     \u001b[32m✔\u001b[39m \u001b[34myardstick   \u001b[39m 1.1.0\n",
      "\u001b[32m✔\u001b[39m \u001b[34mrecipes     \u001b[39m 1.0.4     \n",
      "\n",
      "── \u001b[1mConflicts\u001b[22m ───────────────────────────────────────── tidymodels_conflicts() ──\n",
      "\u001b[31m✖\u001b[39m \u001b[34mscales\u001b[39m::\u001b[32mdiscard()\u001b[39m masks \u001b[34mpurrr\u001b[39m::discard()\n",
      "\u001b[31m✖\u001b[39m \u001b[34mdplyr\u001b[39m::\u001b[32mfilter()\u001b[39m   masks \u001b[34mstats\u001b[39m::filter()\n",
      "\u001b[31m✖\u001b[39m \u001b[34mrecipes\u001b[39m::\u001b[32mfixed()\u001b[39m  masks \u001b[34mstringr\u001b[39m::fixed()\n",
      "\u001b[31m✖\u001b[39m \u001b[34mdplyr\u001b[39m::\u001b[32mlag()\u001b[39m      masks \u001b[34mstats\u001b[39m::lag()\n",
      "\u001b[31m✖\u001b[39m \u001b[34myardstick\u001b[39m::\u001b[32mspec()\u001b[39m masks \u001b[34mreadr\u001b[39m::spec()\n",
      "\u001b[31m✖\u001b[39m \u001b[34mrecipes\u001b[39m::\u001b[32mstep()\u001b[39m   masks \u001b[34mstats\u001b[39m::step()\n",
      "\u001b[34m•\u001b[39m Learn how to get started at \u001b[32mhttps://www.tidymodels.org/start/\u001b[39m\n",
      "\n"
     ]
    }
   ],
   "source": [
    "library(tidyverse)\n",
    "library(repr)\n",
    "library(rvest)\n",
    "library(stringr)\n",
    "library(readxl)\n",
    "library(dplyr)\n",
    "library(tidymodels)\n",
    "options(repr.matrix.max.rows = 6)"
   ]
  },
  {
   "cell_type": "code",
   "execution_count": 8,
   "id": "29018c73-5e9a-4ed5-8ea2-42d09dd7d858",
   "metadata": {
    "tags": []
   },
   "outputs": [
    {
     "name": "stderr",
     "output_type": "stream",
     "text": [
      "\u001b[1m\u001b[22mNew names:\n",
      "\u001b[36m•\u001b[39m `` -> `...7`\n",
      "\u001b[36m•\u001b[39m `` -> `...8`\n",
      "\u001b[1mRows: \u001b[22m\u001b[34m258\u001b[39m \u001b[1mColumns: \u001b[22m\u001b[34m9\u001b[39m\n",
      "\u001b[36m──\u001b[39m \u001b[1mColumn specification\u001b[22m \u001b[36m────────────────────────────────────────────────────────\u001b[39m\n",
      "\u001b[1mDelimiter:\u001b[22m \",\"\n",
      "\u001b[31mchr\u001b[39m (2): UNS, Attribute Information:\n",
      "\u001b[32mdbl\u001b[39m (5): STG, SCG, STR, LPR, PEG\n",
      "\u001b[33mlgl\u001b[39m (2): ...7, ...8\n",
      "\n",
      "\u001b[36mℹ\u001b[39m Use `spec()` to retrieve the full column specification for this data.\n",
      "\u001b[36mℹ\u001b[39m Specify the column types or set `show_col_types = FALSE` to quiet this message.\n",
      "\u001b[1mRows: \u001b[22m\u001b[34m145\u001b[39m \u001b[1mColumns: \u001b[22m\u001b[34m6\u001b[39m\n",
      "\u001b[36m──\u001b[39m \u001b[1mColumn specification\u001b[22m \u001b[36m────────────────────────────────────────────────────────\u001b[39m\n",
      "\u001b[1mDelimiter:\u001b[22m \",\"\n",
      "\u001b[31mchr\u001b[39m (1): UNS\n",
      "\u001b[32mdbl\u001b[39m (5): STG, SCG, STR, LPR, PEG\n",
      "\n",
      "\u001b[36mℹ\u001b[39m Use `spec()` to retrieve the full column specification for this data.\n",
      "\u001b[36mℹ\u001b[39m Specify the column types or set `show_col_types = FALSE` to quiet this message.\n"
     ]
    },
    {
     "data": {
      "text/html": [
       "<table class=\"dataframe\">\n",
       "<caption>A tibble: 230 × 6</caption>\n",
       "<thead>\n",
       "\t<tr><th scope=col>STG</th><th scope=col>SCG</th><th scope=col>STR</th><th scope=col>LPR</th><th scope=col>PEG</th><th scope=col>UNS</th></tr>\n",
       "\t<tr><th scope=col>&lt;dbl&gt;</th><th scope=col>&lt;dbl&gt;</th><th scope=col>&lt;dbl&gt;</th><th scope=col>&lt;dbl&gt;</th><th scope=col>&lt;chr&gt;</th><th scope=col>&lt;chr&gt;</th></tr>\n",
       "</thead>\n",
       "<tbody>\n",
       "\t<tr><td>0.08</td><td>0.08</td><td>0.10</td><td>0.24</td><td>A</td><td>High</td></tr>\n",
       "\t<tr><td>0.00</td><td>0.00</td><td>0.50</td><td>0.20</td><td>A</td><td>High</td></tr>\n",
       "\t<tr><td>0.18</td><td>0.18</td><td>0.55</td><td>0.30</td><td>A</td><td>High</td></tr>\n",
       "\t<tr><td>⋮</td><td>⋮</td><td>⋮</td><td>⋮</td><td>⋮</td><td>⋮</td></tr>\n",
       "\t<tr><td>0.72</td><td>0.60</td><td>0.45</td><td>0.79</td><td>F</td><td>Middle</td></tr>\n",
       "\t<tr><td>0.54</td><td>0.51</td><td>0.55</td><td>0.64</td><td>F</td><td>Low   </td></tr>\n",
       "\t<tr><td>0.50</td><td>0.75</td><td>0.81</td><td>0.61</td><td>F</td><td>Middle</td></tr>\n",
       "</tbody>\n",
       "</table>\n"
      ],
      "text/latex": [
       "A tibble: 230 × 6\n",
       "\\begin{tabular}{llllll}\n",
       " STG & SCG & STR & LPR & PEG & UNS\\\\\n",
       " <dbl> & <dbl> & <dbl> & <dbl> & <chr> & <chr>\\\\\n",
       "\\hline\n",
       "\t 0.08 & 0.08 & 0.10 & 0.24 & A & High\\\\\n",
       "\t 0.00 & 0.00 & 0.50 & 0.20 & A & High\\\\\n",
       "\t 0.18 & 0.18 & 0.55 & 0.30 & A & High\\\\\n",
       "\t ⋮ & ⋮ & ⋮ & ⋮ & ⋮ & ⋮\\\\\n",
       "\t 0.72 & 0.60 & 0.45 & 0.79 & F & Middle\\\\\n",
       "\t 0.54 & 0.51 & 0.55 & 0.64 & F & Low   \\\\\n",
       "\t 0.50 & 0.75 & 0.81 & 0.61 & F & Middle\\\\\n",
       "\\end{tabular}\n"
      ],
      "text/markdown": [
       "\n",
       "A tibble: 230 × 6\n",
       "\n",
       "| STG &lt;dbl&gt; | SCG &lt;dbl&gt; | STR &lt;dbl&gt; | LPR &lt;dbl&gt; | PEG &lt;chr&gt; | UNS &lt;chr&gt; |\n",
       "|---|---|---|---|---|---|\n",
       "| 0.08 | 0.08 | 0.10 | 0.24 | A | High |\n",
       "| 0.00 | 0.00 | 0.50 | 0.20 | A | High |\n",
       "| 0.18 | 0.18 | 0.55 | 0.30 | A | High |\n",
       "| ⋮ | ⋮ | ⋮ | ⋮ | ⋮ | ⋮ |\n",
       "| 0.72 | 0.60 | 0.45 | 0.79 | F | Middle |\n",
       "| 0.54 | 0.51 | 0.55 | 0.64 | F | Low    |\n",
       "| 0.50 | 0.75 | 0.81 | 0.61 | F | Middle |\n",
       "\n"
      ],
      "text/plain": [
       "    STG  SCG  STR  LPR  PEG UNS   \n",
       "1   0.08 0.08 0.10 0.24 A   High  \n",
       "2   0.00 0.00 0.50 0.20 A   High  \n",
       "3   0.18 0.18 0.55 0.30 A   High  \n",
       "⋮   ⋮    ⋮    ⋮    ⋮    ⋮   ⋮     \n",
       "228 0.72 0.60 0.45 0.79 F   Middle\n",
       "229 0.54 0.51 0.55 0.64 F   Low   \n",
       "230 0.50 0.75 0.81 0.61 F   Middle"
      ]
     },
     "metadata": {},
     "output_type": "display_data"
    },
    {
     "data": {
      "text/html": [
       "<table class=\"dataframe\">\n",
       "<caption>A tibble: 134 × 6</caption>\n",
       "<thead>\n",
       "\t<tr><th scope=col>STG</th><th scope=col>SCG</th><th scope=col>STR</th><th scope=col>LPR</th><th scope=col>PEG</th><th scope=col>UNS</th></tr>\n",
       "\t<tr><th scope=col>&lt;dbl&gt;</th><th scope=col>&lt;dbl&gt;</th><th scope=col>&lt;dbl&gt;</th><th scope=col>&lt;dbl&gt;</th><th scope=col>&lt;chr&gt;</th><th scope=col>&lt;chr&gt;</th></tr>\n",
       "</thead>\n",
       "<tbody>\n",
       "\t<tr><td>0.08</td><td>0.18</td><td>0.63</td><td>0.60</td><td>A</td><td>High</td></tr>\n",
       "\t<tr><td>0.20</td><td>0.20</td><td>0.68</td><td>0.67</td><td>A</td><td>High</td></tr>\n",
       "\t<tr><td>0.22</td><td>0.22</td><td>0.90</td><td>0.30</td><td>A</td><td>High</td></tr>\n",
       "\t<tr><td>⋮</td><td>⋮</td><td>⋮</td><td>⋮</td><td>⋮</td><td>⋮</td></tr>\n",
       "\t<tr><td>0.68</td><td>0.61</td><td>0.34</td><td>0.31</td><td>F</td><td>Low   </td></tr>\n",
       "\t<tr><td>0.56</td><td>0.60</td><td>0.77</td><td>0.13</td><td>F</td><td>Low   </td></tr>\n",
       "\t<tr><td>0.68</td><td>0.64</td><td>0.79</td><td>0.97</td><td>F</td><td>Middle</td></tr>\n",
       "</tbody>\n",
       "</table>\n"
      ],
      "text/latex": [
       "A tibble: 134 × 6\n",
       "\\begin{tabular}{llllll}\n",
       " STG & SCG & STR & LPR & PEG & UNS\\\\\n",
       " <dbl> & <dbl> & <dbl> & <dbl> & <chr> & <chr>\\\\\n",
       "\\hline\n",
       "\t 0.08 & 0.18 & 0.63 & 0.60 & A & High\\\\\n",
       "\t 0.20 & 0.20 & 0.68 & 0.67 & A & High\\\\\n",
       "\t 0.22 & 0.22 & 0.90 & 0.30 & A & High\\\\\n",
       "\t ⋮ & ⋮ & ⋮ & ⋮ & ⋮ & ⋮\\\\\n",
       "\t 0.68 & 0.61 & 0.34 & 0.31 & F & Low   \\\\\n",
       "\t 0.56 & 0.60 & 0.77 & 0.13 & F & Low   \\\\\n",
       "\t 0.68 & 0.64 & 0.79 & 0.97 & F & Middle\\\\\n",
       "\\end{tabular}\n"
      ],
      "text/markdown": [
       "\n",
       "A tibble: 134 × 6\n",
       "\n",
       "| STG &lt;dbl&gt; | SCG &lt;dbl&gt; | STR &lt;dbl&gt; | LPR &lt;dbl&gt; | PEG &lt;chr&gt; | UNS &lt;chr&gt; |\n",
       "|---|---|---|---|---|---|\n",
       "| 0.08 | 0.18 | 0.63 | 0.60 | A | High |\n",
       "| 0.20 | 0.20 | 0.68 | 0.67 | A | High |\n",
       "| 0.22 | 0.22 | 0.90 | 0.30 | A | High |\n",
       "| ⋮ | ⋮ | ⋮ | ⋮ | ⋮ | ⋮ |\n",
       "| 0.68 | 0.61 | 0.34 | 0.31 | F | Low    |\n",
       "| 0.56 | 0.60 | 0.77 | 0.13 | F | Low    |\n",
       "| 0.68 | 0.64 | 0.79 | 0.97 | F | Middle |\n",
       "\n"
      ],
      "text/plain": [
       "    STG  SCG  STR  LPR  PEG UNS   \n",
       "1   0.08 0.18 0.63 0.60 A   High  \n",
       "2   0.20 0.20 0.68 0.67 A   High  \n",
       "3   0.22 0.22 0.90 0.30 A   High  \n",
       "⋮   ⋮    ⋮    ⋮    ⋮    ⋮   ⋮     \n",
       "132 0.68 0.61 0.34 0.31 F   Low   \n",
       "133 0.56 0.60 0.77 0.13 F   Low   \n",
       "134 0.68 0.64 0.79 0.97 F   Middle"
      ]
     },
     "metadata": {},
     "output_type": "display_data"
    }
   ],
   "source": [
    "training_data <- read_csv(\"https://raw.githubusercontent.com/thisisyifulin/group_project-group34-/main/Training_Data_User_Modeling_Dataset_Hamdi%20Tolga%20KAHRAMAN.csv\") |>\n",
    "select(STG, SCG, STR, LPR, PEG, UNS)\n",
    "\n",
    "testing_data <- read_csv(\"https://raw.githubusercontent.com/thisisyifulin/group_project-group34-/main/Test_Data_User_Modeling_Dataset_Hamdi%20Tolga%20KAHRAMAN.csv\")\n",
    "\n",
    "A_grade <- filter(training_data, 1.00 > PEG, PEG > 0.80) |> # changing PEG from decimals to letter grades\n",
    "mutate(PEG = \"A\")\n",
    "B_grade <- filter(training_data, 0.79 > PEG, PEG > 0.65) |> \n",
    "mutate(PEG = \"B\")\n",
    "C_grade <- filter(training_data, 0.64 > PEG, PEG > 0.55) |> \n",
    "mutate(PEG = \"C\")\n",
    "D_grade <- filter(training_data, 0.54 > PEG, PEG > 0.50) |> \n",
    "mutate(PEG = \"D\")\n",
    "F_grade <- filter(training_data, 0.49 > PEG, PEG > 0.00) |> \n",
    "mutate(PEG = \"F\")\n",
    "\n",
    "mutated_training_data <- bind_rows(A_grade, B_grade, C_grade, D_grade, F_grade)\n",
    "\n",
    "# repeat w/ test data\n",
    "\n",
    "A_grade <- filter(testing_data, 1.00 > PEG, PEG > 0.80) |> # changing PEG from decimals to letter grades\n",
    "mutate(PEG = \"A\")\n",
    "B_grade <- filter(testing_data, 0.79 > PEG, PEG > 0.65) |> \n",
    "mutate(PEG = \"B\")\n",
    "C_grade <- filter(testing_data, 0.64 > PEG, PEG > 0.55) |> \n",
    "mutate(PEG = \"C\")\n",
    "D_grade <- filter(testing_data, 0.54 > PEG, PEG > 0.50) |> \n",
    "mutate(PEG = \"D\")\n",
    "F_grade <- filter(testing_data, 0.49 > PEG, PEG > 0.00) |> \n",
    "mutate(PEG = \"F\")\n",
    "\n",
    "mutated_testing_data <- bind_rows(A_grade, B_grade, C_grade, D_grade, F_grade)\n",
    "\n",
    "mutated_training_data\n",
    "mutated_testing_data"
   ]
  },
  {
   "cell_type": "code",
   "execution_count": 9,
   "id": "53416d15-00d1-4fcd-95d9-279e042a3a6f",
   "metadata": {
    "tags": []
   },
   "outputs": [
    {
     "data": {
      "text/html": [
       "<table class=\"dataframe\">\n",
       "<caption>A tibble: 5 × 2</caption>\n",
       "<thead>\n",
       "\t<tr><th scope=col>PEG</th><th scope=col>count_class</th></tr>\n",
       "\t<tr><th scope=col>&lt;chr&gt;</th><th scope=col>&lt;int&gt;</th></tr>\n",
       "</thead>\n",
       "<tbody>\n",
       "\t<tr><td>A</td><td> 28</td></tr>\n",
       "\t<tr><td>B</td><td> 38</td></tr>\n",
       "\t<tr><td>C</td><td> 31</td></tr>\n",
       "\t<tr><td>D</td><td>  8</td></tr>\n",
       "\t<tr><td>F</td><td>125</td></tr>\n",
       "</tbody>\n",
       "</table>\n"
      ],
      "text/latex": [
       "A tibble: 5 × 2\n",
       "\\begin{tabular}{ll}\n",
       " PEG & count\\_class\\\\\n",
       " <chr> & <int>\\\\\n",
       "\\hline\n",
       "\t A &  28\\\\\n",
       "\t B &  38\\\\\n",
       "\t C &  31\\\\\n",
       "\t D &   8\\\\\n",
       "\t F & 125\\\\\n",
       "\\end{tabular}\n"
      ],
      "text/markdown": [
       "\n",
       "A tibble: 5 × 2\n",
       "\n",
       "| PEG &lt;chr&gt; | count_class &lt;int&gt; |\n",
       "|---|---|\n",
       "| A |  28 |\n",
       "| B |  38 |\n",
       "| C |  31 |\n",
       "| D |   8 |\n",
       "| F | 125 |\n",
       "\n"
      ],
      "text/plain": [
       "  PEG count_class\n",
       "1 A    28        \n",
       "2 B    38        \n",
       "3 C    31        \n",
       "4 D     8        \n",
       "5 F   125        "
      ]
     },
     "metadata": {},
     "output_type": "display_data"
    }
   ],
   "source": [
    "#count the amount of each class of PEG\n",
    "counts_class <- mutated_training_data |>\n",
    "                group_by(PEG) |>\n",
    "                summarize(count_class = n())\n",
    "counts_class"
   ]
  },
  {
   "cell_type": "code",
   "execution_count": 30,
   "id": "bbe164f0-8720-498b-9239-dbecf2b125a8",
   "metadata": {
    "tags": []
   },
   "outputs": [
    {
     "data": {
      "text/html": [
       "<table class=\"dataframe\">\n",
       "<caption>A tibble: 1 × 3</caption>\n",
       "<thead>\n",
       "\t<tr><th scope=col>STG</th><th scope=col>STR</th><th scope=col>LPR</th></tr>\n",
       "\t<tr><th scope=col>&lt;dbl&gt;</th><th scope=col>&lt;dbl&gt;</th><th scope=col>&lt;dbl&gt;</th></tr>\n",
       "</thead>\n",
       "<tbody>\n",
       "\t<tr><td>0.368813</td><td>0.4656304</td><td>0.4416522</td></tr>\n",
       "</tbody>\n",
       "</table>\n"
      ],
      "text/latex": [
       "A tibble: 1 × 3\n",
       "\\begin{tabular}{lll}\n",
       " STG & STR & LPR\\\\\n",
       " <dbl> & <dbl> & <dbl>\\\\\n",
       "\\hline\n",
       "\t 0.368813 & 0.4656304 & 0.4416522\\\\\n",
       "\\end{tabular}\n"
      ],
      "text/markdown": [
       "\n",
       "A tibble: 1 × 3\n",
       "\n",
       "| STG &lt;dbl&gt; | STR &lt;dbl&gt; | LPR &lt;dbl&gt; |\n",
       "|---|---|---|\n",
       "| 0.368813 | 0.4656304 | 0.4416522 |\n",
       "\n"
      ],
      "text/plain": [
       "  STG      STR       LPR      \n",
       "1 0.368813 0.4656304 0.4416522"
      ]
     },
     "metadata": {},
     "output_type": "display_data"
    }
   ],
   "source": [
    "#finds the mean of predictors\n",
    "\n",
    "select_training_data <- mutated_training_data |>\n",
    "select(STG, STR, LPR, PEG) # selecting the variables\n",
    "\n",
    "predictor_means <- select_training_data |>\n",
    "                   summarize(across(STG:LPR, mean, na.rm = TRUE))\n",
    "\n",
    "predictor_means"
   ]
  },
  {
   "cell_type": "code",
   "execution_count": null,
   "id": "978f8291-70f7-4bc4-8c82-094bd27962b0",
   "metadata": {},
   "outputs": [],
   "source": []
  }
 ],
 "metadata": {
  "kernelspec": {
   "display_name": "R",
   "language": "R",
   "name": "ir"
  },
  "language_info": {
   "codemirror_mode": "r",
   "file_extension": ".r",
   "mimetype": "text/x-r-source",
   "name": "R",
   "pygments_lexer": "r",
   "version": "4.2.2"
  }
 },
 "nbformat": 4,
 "nbformat_minor": 5
}
